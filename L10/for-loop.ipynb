{
 "cells": [
  {
   "cell_type": "markdown",
   "id": "e8838647",
   "metadata": {},
   "source": [
    "# for Loop <hr style=\"border:2.5px solid #126782\"></hr>"
   ]
  },
  {
   "cell_type": "markdown",
   "id": "65793c60",
   "metadata": {},
   "source": [
    "Data Analyst: Allainah Mae J. Guia <br> Department: Electrical Engineering"
   ]
  },
  {
   "cell_type": "markdown",
   "id": "3bbabd81",
   "metadata": {},
   "source": [
    "# Iterating Over a List"
   ]
  },
  {
   "cell_type": "code",
   "execution_count": 8,
   "id": "7a187bf4",
   "metadata": {},
   "outputs": [
    {
     "name": "stdout",
     "output_type": "stream",
     "text": [
      "apple\n",
      "orange\n",
      "grapes\n"
     ]
    }
   ],
   "source": [
    "# at index 0, i = \"apple\"\n",
    "fruits = [\"apple\", \"orange\", \"grapes\"]\n",
    "\n",
    "for i in fruits:\n",
    "    print(i)"
   ]
  },
  {
   "cell_type": "code",
   "execution_count": 9,
   "id": "5ce1ea79",
   "metadata": {},
   "outputs": [
    {
     "name": "stdout",
     "output_type": "stream",
     "text": [
      "1\n",
      "2\n",
      "3\n",
      "4\n",
      "5\n",
      "6\n",
      "7\n",
      "8\n",
      "9\n",
      "10\n"
     ]
    }
   ],
   "source": [
    "# at index 0, n = 1\n",
    "numbers = [1,2,3,4,5,6,7,8,9,10]\n",
    "\n",
    "for n in numbers:\n",
    "    print (n)"
   ]
  },
  {
   "cell_type": "code",
   "execution_count": 10,
   "id": "f0916321",
   "metadata": {},
   "outputs": [
    {
     "name": "stdout",
     "output_type": "stream",
     "text": [
      "1\n",
      "4\n",
      "7\n"
     ]
    }
   ],
   "source": [
    "# start at 1, ends at 10 (exclusive), steps by 3\n",
    "for j in range (1,10,3):\n",
    "    print(j)"
   ]
  },
  {
   "cell_type": "markdown",
   "id": "839bd785",
   "metadata": {},
   "source": [
    "# Iterating Over a Dictionary"
   ]
  },
  {
   "cell_type": "code",
   "execution_count": 11,
   "id": "b2f0a628",
   "metadata": {},
   "outputs": [
    {
     "name": "stdout",
     "output_type": "stream",
     "text": [
      "P\n",
      "h\n",
      "y\n",
      "t\n",
      "o\n",
      "n\n"
     ]
    }
   ],
   "source": [
    "# at index 0, char = 'P'\n",
    "for char in \"Phyton\":\n",
    "    print(char)"
   ]
  },
  {
   "cell_type": "code",
   "execution_count": 1,
   "id": "e404197b",
   "metadata": {},
   "outputs": [
    {
     "name": "stdout",
     "output_type": "stream",
     "text": [
      "name\n",
      "position\n",
      "Salary\n",
      "Allainah\n",
      "Electrical Engineer\n",
      "500000\n"
     ]
    }
   ],
   "source": [
    "employee = {\"name\":\"Allainah\",\n",
    "            \"position\":\"Electrical Engineer\",\n",
    "            \"Salary\": 500000}\n",
    "\n",
    "# starts at key = \"name\"\n",
    "for key in employee:\n",
    "    print(key)\n",
    "\n",
    "# starts at value = \"Ada\"\n",
    "for value in employee.values():\n",
    "    print(value)"
   ]
  }
 ],
 "metadata": {
  "kernelspec": {
   "display_name": "Python 3",
   "language": "python",
   "name": "python3"
  },
  "language_info": {
   "codemirror_mode": {
    "name": "ipython",
    "version": 3
   },
   "file_extension": ".py",
   "mimetype": "text/x-python",
   "name": "python",
   "nbconvert_exporter": "python",
   "pygments_lexer": "ipython3",
   "version": "3.13.3"
  }
 },
 "nbformat": 4,
 "nbformat_minor": 5
}
