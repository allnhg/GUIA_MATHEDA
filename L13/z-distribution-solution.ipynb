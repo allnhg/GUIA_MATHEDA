{
 "cells": [
  {
   "cell_type": "markdown",
   "id": "653cf218",
   "metadata": {},
   "source": [
    "# The z-Distribution <hr style=\"border:2.5px solid #126782\"></hr>"
   ]
  },
  {
   "cell_type": "markdown",
   "id": "dda13f80",
   "metadata": {},
   "source": [
    "Data Analyst: Allainah Mae J. Guia <br> Department: Electrical Engineering"
   ]
  }
 ],
 "metadata": {
  "language_info": {
   "name": "python"
  }
 },
 "nbformat": 4,
 "nbformat_minor": 5
}
