{
 "cells": [
  {
   "cell_type": "markdown",
   "id": "1cc87c9e",
   "metadata": {},
   "source": [
    "# if-else Statement <hr style=\"border:2.5px solid #126782\"></hr>"
   ]
  },
  {
   "cell_type": "markdown",
   "id": "7905db67",
   "metadata": {},
   "source": [
    "Data Analyst: Allainah Mae J. Guia <br> Department: Electrical Engineering"
   ]
  },
  {
   "cell_type": "markdown",
   "id": "79fdaa75",
   "metadata": {},
   "source": [
    "# if statement"
   ]
  },
  {
   "cell_type": "code",
   "execution_count": 5,
   "id": "a1084fa6",
   "metadata": {},
   "outputs": [
    {
     "name": "stdout",
     "output_type": "stream",
     "text": [
      "pasar ko\n"
     ]
    }
   ],
   "source": [
    "# passing score is 5.0\n",
    "grade = 5.1\n",
    "if grade >= 5.0:\n",
    "    print(\"pasar ko\")"
   ]
  },
  {
   "cell_type": "code",
   "execution_count": 8,
   "id": "7ae19c04",
   "metadata": {},
   "outputs": [
    {
     "name": "stdout",
     "output_type": "stream",
     "text": [
      "pasar ko\n"
     ]
    }
   ],
   "source": [
    "# two if statement are evaluated\n",
    "grade = 7.5\n",
    "\n",
    "# evaluate grade\n",
    "if grade >= 5.0:\n",
    "        print(\"pasar ko\")\n",
    "\n",
    "if grade < 5.0:\n",
    "        print(\"FAILED!\")"
   ]
  },
  {
   "cell_type": "markdown",
   "id": "58659328",
   "metadata": {},
   "source": [
    "# if-else statement"
   ]
  },
  {
   "cell_type": "code",
   "execution_count": 10,
   "id": "59e2d671",
   "metadata": {},
   "outputs": [
    {
     "name": "stdout",
     "output_type": "stream",
     "text": [
      "FAILED!\n"
     ]
    }
   ],
   "source": [
    "# if grade >= 5.0 is True, 'else' will not be evaluated\n",
    "grade = 4.0\n",
    "\n",
    "# evaluate grade\n",
    "if grade >= 5.0:\n",
    "        print(\"pasar ko\")\n",
    "\n",
    "else:\n",
    "        print(\"FAILED!\")"
   ]
  },
  {
   "cell_type": "markdown",
   "id": "e967640d",
   "metadata": {},
   "source": [
    "# if-elif-else statement"
   ]
  },
  {
   "cell_type": "code",
   "execution_count": 20,
   "id": "7c14e199",
   "metadata": {},
   "outputs": [
    {
     "name": "stdout",
     "output_type": "stream",
     "text": [
      "FAILED!\n"
     ]
    }
   ],
   "source": [
    "# if grade >= 5.0 is True, 'others' will not be evaluated\n",
    "grade = 2.9\n",
    "\n",
    "# evaluate grade\n",
    "if grade >= 5.0:\n",
    "        print(\"pasar ko\")\n",
    "elif grade < 5.0: # < 5.0 evaluated first\n",
    "        print(\"FAILED!\")\n",
    "elif grade < 3.0: \n",
    "    print(\"DISMISSED\")\n",
    "else:\n",
    "    print(\"INVALID\")"
   ]
  },
  {
   "cell_type": "code",
   "execution_count": 19,
   "id": "84d3786e",
   "metadata": {},
   "outputs": [
    {
     "name": "stdout",
     "output_type": "stream",
     "text": [
      "DISMISSED\n"
     ]
    }
   ],
   "source": [
    "# if grade >= 5.0 is True, 'others' will not be evaluated\n",
    "grade = 2.9\n",
    "\n",
    "# evaluate grade\n",
    "if grade >= 5.0:\n",
    "        print(\"pasar ko\")\n",
    "elif grade < 3.0: # < 3.0 evaluated first\n",
    "        print(\"DISMISSED\")\n",
    "elif grade < 3.0: \n",
    "    print(\"FAILED!\")\n",
    "else:\n",
    "    print(\"INVALID\")"
   ]
  }
 ],
 "metadata": {
  "kernelspec": {
   "display_name": "Python 3",
   "language": "python",
   "name": "python3"
  },
  "language_info": {
   "codemirror_mode": {
    "name": "ipython",
    "version": 3
   },
   "file_extension": ".py",
   "mimetype": "text/x-python",
   "name": "python",
   "nbconvert_exporter": "python",
   "pygments_lexer": "ipython3",
   "version": "3.13.3"
  }
 },
 "nbformat": 4,
 "nbformat_minor": 5
}
