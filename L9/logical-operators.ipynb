{
 "cells": [
  {
   "cell_type": "markdown",
   "id": "a3a876e7",
   "metadata": {},
   "source": [
    "# Logical Operators <hr style=\"border:2.5px solid #126782\"></hr>"
   ]
  },
  {
   "cell_type": "markdown",
   "id": "ddd1d7cd",
   "metadata": {},
   "source": [
    "Data Analyst: Allainah Mae J. Guia <br> Department: Electrical Engineering"
   ]
  },
  {
   "cell_type": "markdown",
   "id": "237719c7",
   "metadata": {},
   "source": [
    "# Logical AND"
   ]
  },
  {
   "cell_type": "code",
   "execution_count": 15,
   "id": "3d26128f",
   "metadata": {},
   "outputs": [
    {
     "name": "stdout",
     "output_type": "stream",
     "text": [
      "both are true\n"
     ]
    }
   ],
   "source": [
    "# a AND b must be true\n",
    "a = True\n",
    "b = True\n",
    "\n",
    "if a and b:\n",
    "    print(\"both are true\")\n",
    "else:\n",
    "    print(\"at least one is false\")"
   ]
  },
  {
   "cell_type": "code",
   "execution_count": 3,
   "id": "e05971cd",
   "metadata": {},
   "outputs": [
    {
     "name": "stdout",
     "output_type": "stream",
     "text": [
      "at least one is false\n"
     ]
    }
   ],
   "source": [
    "# a AND b must be true\n",
    "a = True\n",
    "b = False\n",
    "\n",
    "if a and b:\n",
    "    print(\"both are true\")\n",
    "elif not(a) and not (b):\n",
    "    print(\"both are false\")\n",
    "else: \n",
    "    print(\"at least one is false\")"
   ]
  },
  {
   "cell_type": "code",
   "execution_count": 16,
   "id": "e244738e",
   "metadata": {},
   "outputs": [
    {
     "name": "stdout",
     "output_type": "stream",
     "text": [
      "12 is within the range of 11 to 20.\n"
     ]
    }
   ],
   "source": [
    "# check if a is within range of 1 to 30\n",
    "a = 12\n",
    "\n",
    "if (a > 0) and (a <= 10):\n",
    "    print(str(a) + \" is within the range of 1 to 10.\")\n",
    "elif (a > 10) and (a <= 20):\n",
    "    print(str(a) + \" is within the range of 11 to 20.\")\n",
    "elif (a>20) and (a <= 30):\n",
    "    print(str(a) + \" is within the range of 21 to 30\")\n",
    "else:\n",
    "    print(\"out of range.\")"
   ]
  },
  {
   "cell_type": "markdown",
   "id": "aa352bec",
   "metadata": {},
   "source": [
    "# Logical OR"
   ]
  },
  {
   "cell_type": "code",
   "execution_count": 17,
   "id": "540fe884",
   "metadata": {},
   "outputs": [
    {
     "name": "stdout",
     "output_type": "stream",
     "text": [
      "at least one is true\n"
     ]
    }
   ],
   "source": [
    "# either a OR b must be True\n",
    "a = True\n",
    "b = False\n",
    "\n",
    "if a or b: \n",
    "    print(\"at least one is true\")\n",
    "else:\n",
    "    print(\"both are false\")"
   ]
  },
  {
   "cell_type": "code",
   "execution_count": 18,
   "id": "64f1bcaa",
   "metadata": {},
   "outputs": [
    {
     "name": "stdout",
     "output_type": "stream",
     "text": [
      "It is great day to go outside\n"
     ]
    }
   ],
   "source": [
    "# Go outside or stay indoors\n",
    "weather = \"sunny\"\n",
    "\n",
    "if (weather == \"rainy\") or (weather ==\"stormy\"):\n",
    "    print(\"Bring an umbrella or stay indoors!\")\n",
    "elif (weather == \"sunny\") or (weather == \"clear\"):\n",
    "    print(\"It is great day to go outside\")\n",
    "else:\n",
    "    print(\"The weather is unpredictable today.\")"
   ]
  },
  {
   "cell_type": "markdown",
   "id": "4461188d",
   "metadata": {},
   "source": [
    "# Logical NOT"
   ]
  },
  {
   "cell_type": "code",
   "execution_count": 19,
   "id": "2858db49",
   "metadata": {},
   "outputs": [
    {
     "data": {
      "text/plain": [
       "False"
      ]
     },
     "execution_count": 19,
     "metadata": {},
     "output_type": "execute_result"
    }
   ],
   "source": [
    "# negates the logical state\n",
    "a = True\n",
    "\n",
    "not a"
   ]
  },
  {
   "cell_type": "code",
   "execution_count": 24,
   "id": "1ba6ff6c",
   "metadata": {},
   "outputs": [
    {
     "name": "stdout",
     "output_type": "stream",
     "text": [
      "8 is odd\n"
     ]
    }
   ],
   "source": [
    "# Odd or even number\n",
    "a = 8\n",
    "\n",
    "if not (a % 2 ==0):\n",
    "    print(str(a) + \" is even\")\n",
    "else:\n",
    "    print(str(a) + \" is odd\")"
   ]
  }
 ],
 "metadata": {
  "kernelspec": {
   "display_name": "Python 3",
   "language": "python",
   "name": "python3"
  },
  "language_info": {
   "codemirror_mode": {
    "name": "ipython",
    "version": 3
   },
   "file_extension": ".py",
   "mimetype": "text/x-python",
   "name": "python",
   "nbconvert_exporter": "python",
   "pygments_lexer": "ipython3",
   "version": "3.13.3"
  }
 },
 "nbformat": 4,
 "nbformat_minor": 5
}
